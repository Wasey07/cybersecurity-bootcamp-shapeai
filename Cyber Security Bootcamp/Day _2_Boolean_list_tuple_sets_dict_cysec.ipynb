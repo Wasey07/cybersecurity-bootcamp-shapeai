{
  "nbformat": 4,
  "nbformat_minor": 0,
  "metadata": {
    "kernelspec": {
      "display_name": "Python 3",
      "language": "python",
      "name": "python3"
    },
    "language_info": {
      "codemirror_mode": {
        "name": "ipython",
        "version": 3
      },
      "file_extension": ".py",
      "mimetype": "text/x-python",
      "name": "python",
      "nbconvert_exporter": "python",
      "pygments_lexer": "ipython3",
      "version": "3.7.3"
    },
    "colab": {
      "name": "Day _2_Boolean_list_tuple_sets_dict_cysec.ipynb",
      "provenance": []
    }
  },
  "cells": [
    {
      "cell_type": "markdown",
      "metadata": {
        "id": "mfv5BTeToQMc"
      },
      "source": [
        "<h1>LIST:</h1>\n"
      ]
    },
    {
      "cell_type": "code",
      "metadata": {
        "id": "c2Kn4CBtoQMd"
      },
      "source": [
        "subjects = ['History', 'Math', 'Physics', 'CS']"
      ],
      "execution_count": null,
      "outputs": []
    },
    {
      "cell_type": "code",
      "metadata": {
        "id": "zipaSd2eoQMe",
        "outputId": "787c0302-5cdf-4694-922d-9126b3e9c814"
      },
      "source": [
        "print(subjects) \n",
        "#Prints all the elements of the list"
      ],
      "execution_count": null,
      "outputs": [
        {
          "output_type": "stream",
          "text": [
            "['History', 'Math', 'Physics', 'CS']\n"
          ],
          "name": "stdout"
        }
      ]
    },
    {
      "cell_type": "code",
      "metadata": {
        "id": "uNP8oKmIoQMe",
        "outputId": "f50d3c87-def7-4803-f2d0-b710291b2bfa"
      },
      "source": [
        "print(len(subjects))\n",
        "#Prints number of elements in list"
      ],
      "execution_count": null,
      "outputs": [
        {
          "output_type": "stream",
          "text": [
            "4\n"
          ],
          "name": "stdout"
        }
      ]
    },
    {
      "cell_type": "code",
      "metadata": {
        "id": "0ZKwCwOxoQMf",
        "outputId": "44173dc8-6ea0-4dbc-b628-b716a318c438"
      },
      "source": [
        "print(subjects[0])\n",
        "#Prints the 1st element (History)"
      ],
      "execution_count": null,
      "outputs": [
        {
          "output_type": "stream",
          "text": [
            "History\n"
          ],
          "name": "stdout"
        }
      ]
    },
    {
      "cell_type": "code",
      "metadata": {
        "id": "XbJqF2-soQMf",
        "outputId": "89f154e6-2ffa-480e-ec8d-8f68102183d0"
      },
      "source": [
        "print(subjects[-1])\n",
        "#Prints the last element (History)"
      ],
      "execution_count": null,
      "outputs": [
        {
          "output_type": "stream",
          "text": [
            "CS\n"
          ],
          "name": "stdout"
        }
      ]
    },
    {
      "cell_type": "code",
      "metadata": {
        "id": "9IPXuz1goQMg",
        "outputId": "4a91282d-dd5b-4670-d570-99354d35d8ac"
      },
      "source": [
        "print(subjects[:2])\n",
        "#Prints the 1st & 2nd element (History)\n",
        "print(subjects[:2])"
      ],
      "execution_count": null,
      "outputs": [
        {
          "output_type": "stream",
          "text": [
            "['History', 'Math']\n",
            "['History', 'Math']\n"
          ],
          "name": "stdout"
        }
      ]
    },
    {
      "cell_type": "code",
      "metadata": {
        "id": "Ab-prsdtoQMg",
        "outputId": "e7bd6bb4-59cf-484d-9314-cff333167a6c"
      },
      "source": [
        "subjects.append('DS')\n",
        "#Adds the item at the end of the list\n",
        "print(subjects)"
      ],
      "execution_count": null,
      "outputs": [
        {
          "output_type": "stream",
          "text": [
            "['History', 'Math', 'Physics', 'CS', 'DS']\n"
          ],
          "name": "stdout"
        }
      ]
    },
    {
      "cell_type": "code",
      "metadata": {
        "id": "UGFtUxfloQMh",
        "outputId": "b84503ef-e2de-4891-a781-f03e026b18e6"
      },
      "source": [
        "subjects.insert(0,'DBMS')\n",
        "#Adds the item at index 0\n",
        "print(subjects)"
      ],
      "execution_count": null,
      "outputs": [
        {
          "output_type": "stream",
          "text": [
            "['DBMS', 'History', 'Math', 'Physics', 'CS', 'DS']\n"
          ],
          "name": "stdout"
        }
      ]
    },
    {
      "cell_type": "code",
      "metadata": {
        "id": "ZdZqssZMoQMh"
      },
      "source": [
        "subjects_2 = ['Art', 'Design', 'Chemistry']"
      ],
      "execution_count": null,
      "outputs": []
    },
    {
      "cell_type": "code",
      "metadata": {
        "id": "ytbUV0htoQMi"
      },
      "source": [
        "#subjects.insert(0,subjects_2)\n",
        "#print(subjects)\n",
        "#Let's try to add elements of subject_2 to subjects\n",
        "#it got added as a seperate list in element 0, rather than splitting the items in subject_2 then adding them"
      ],
      "execution_count": null,
      "outputs": []
    },
    {
      "cell_type": "code",
      "metadata": {
        "id": "sAMpwoFGoQMi",
        "outputId": "2ceb9c14-df8d-44a4-e10a-d25d48ae7220"
      },
      "source": [
        "subjects.extend(subjects_2)\n",
        "print(subjects)\n",
        "#Adds each element seperately to subject_2 at the end of the list"
      ],
      "execution_count": null,
      "outputs": [
        {
          "output_type": "stream",
          "text": [
            "['DBMS', 'History', 'Math', 'Physics', 'CS', 'DS', 'Art', 'Design', 'Chemistry']\n"
          ],
          "name": "stdout"
        }
      ]
    },
    {
      "cell_type": "code",
      "metadata": {
        "id": "X-QwAHFNoQMi",
        "outputId": "c5e5e503-b87f-4c91-9fc0-b0b8d3adb850"
      },
      "source": [
        "subjects.remove('Math')\n",
        "#Finds & Removes Math from the list\n",
        "print(subjects)"
      ],
      "execution_count": null,
      "outputs": [
        {
          "output_type": "stream",
          "text": [
            "['DBMS', 'History', 'Physics', 'CS', 'DS', 'Art', 'Design', 'Chemistry']\n"
          ],
          "name": "stdout"
        }
      ]
    },
    {
      "cell_type": "code",
      "metadata": {
        "id": "kenbpVtCoQMj",
        "outputId": "b465dd79-48a6-44c4-ba5c-ff531059276f"
      },
      "source": [
        "popped = subjects.pop()\n",
        "#Removes the last item in the list\n",
        "\n",
        "print(subjects)\n",
        "\n",
        "print(popped)\n",
        "#Grabs the popped item"
      ],
      "execution_count": null,
      "outputs": [
        {
          "output_type": "stream",
          "text": [
            "['DBMS', 'History', 'Physics', 'CS', 'DS', 'Art', 'Design']\n",
            "Chemistry\n"
          ],
          "name": "stdout"
        }
      ]
    },
    {
      "cell_type": "code",
      "metadata": {
        "id": "CP8ZJnrZoQMj",
        "outputId": "02a97ce4-5ba8-4dc3-a0c4-749570a49043"
      },
      "source": [
        "subjects.reverse()\n",
        "#Reverses the list\n",
        "print(subjects)"
      ],
      "execution_count": null,
      "outputs": [
        {
          "output_type": "stream",
          "text": [
            "['Design', 'Art', 'DS', 'CS', 'Physics', 'History', 'DBMS']\n"
          ],
          "name": "stdout"
        }
      ]
    },
    {
      "cell_type": "code",
      "metadata": {
        "id": "9HlkrYtwoQMj",
        "outputId": "3e439ab9-2821-40cc-c20d-62492da9d79e"
      },
      "source": [
        "subjects.sort()\n",
        "#Sorts the list in alphabetical order\n",
        "print(subjects)\n",
        "\n",
        "num_list = [2,6,4,5,3,1]\n",
        "num_list.sort()\n",
        "print(num_list)"
      ],
      "execution_count": null,
      "outputs": [
        {
          "output_type": "stream",
          "text": [
            "['Art', 'CS', 'DBMS', 'DS', 'Design', 'History', 'Physics']\n",
            "[1, 2, 3, 4, 5, 6]\n"
          ],
          "name": "stdout"
        }
      ]
    },
    {
      "cell_type": "code",
      "metadata": {
        "id": "SiOtZOvQoQMk",
        "outputId": "d82d19ed-552e-44fc-e574-fd127132d113"
      },
      "source": [
        "print(min(num_list))\n",
        "print(max(num_list))\n",
        "print(sum(num_list))"
      ],
      "execution_count": null,
      "outputs": [
        {
          "output_type": "stream",
          "text": [
            "1\n",
            "6\n",
            "21\n"
          ],
          "name": "stdout"
        }
      ]
    },
    {
      "cell_type": "code",
      "metadata": {
        "id": "DBioxDuUoQMk",
        "outputId": "98c5a206-69e8-4b87-bf45-823102d3ff12"
      },
      "source": [
        "print(subjects.index('CS'))\n",
        "#Returns the index value of the item"
      ],
      "execution_count": null,
      "outputs": [
        {
          "output_type": "stream",
          "text": [
            "1\n"
          ],
          "name": "stdout"
        }
      ]
    },
    {
      "cell_type": "code",
      "metadata": {
        "id": "k092eCsUoQMk",
        "outputId": "c1a422b3-28f6-49e9-c656-f135efc95316"
      },
      "source": [
        "print('Art' in subjects)\n",
        "#Checks weather the item is present in the list or not"
      ],
      "execution_count": null,
      "outputs": [
        {
          "output_type": "stream",
          "text": [
            "True\n"
          ],
          "name": "stdout"
        }
      ]
    },
    {
      "cell_type": "code",
      "metadata": {
        "id": "jHRyaxL5oQMl",
        "outputId": "93d30b1f-c3ca-473e-cb02-8eb97557e4c6"
      },
      "source": [
        "for item in subjects:\n",
        "    print(item)\n",
        "#Prints each item in new line    "
      ],
      "execution_count": null,
      "outputs": [
        {
          "output_type": "stream",
          "text": [
            "Art\n",
            "CS\n",
            "DBMS\n",
            "DS\n",
            "Design\n",
            "History\n",
            "Physics\n"
          ],
          "name": "stdout"
        }
      ]
    },
    {
      "cell_type": "code",
      "metadata": {
        "id": "F1vzG2J2oQMl",
        "outputId": "d72cbfbb-45ba-4fb1-d53d-b9d72f137799"
      },
      "source": [
        "for index,subject in enumerate(subjects):\n",
        "    print(index,subject)\n",
        "#Print the items along with index numbers starting from 0. this is done by enumerate() function"
      ],
      "execution_count": null,
      "outputs": [
        {
          "output_type": "stream",
          "text": [
            "0 Art\n",
            "1 CS\n",
            "2 DBMS\n",
            "3 DS\n",
            "4 Design\n",
            "5 History\n",
            "6 Physics\n"
          ],
          "name": "stdout"
        }
      ]
    },
    {
      "cell_type": "code",
      "metadata": {
        "id": "j0DDMxiWoQMl",
        "outputId": "c22346d2-eccb-4acd-de72-8f90eefb9a8e"
      },
      "source": [
        "for index,subject in enumerate(subjects,start=1):\n",
        "    print(index, subject)\n",
        "#Print the items along with index numbers starting from 1. this is done by enumerate() function"
      ],
      "execution_count": null,
      "outputs": [
        {
          "output_type": "stream",
          "text": [
            "1 Art\n",
            "2 CS\n",
            "3 DBMS\n",
            "4 DS\n",
            "5 Design\n",
            "6 History\n",
            "7 Physics\n"
          ],
          "name": "stdout"
        }
      ]
    },
    {
      "cell_type": "code",
      "metadata": {
        "id": "XJQ0-XY5oQMl",
        "outputId": "3f5974f4-e9a9-47eb-e981-5e0b3642d46f"
      },
      "source": [
        "subject_str = ' - '.join(subjects)\n",
        "print(subject_str)\n",
        "#turns list into '-' seperated string"
      ],
      "execution_count": null,
      "outputs": [
        {
          "output_type": "stream",
          "text": [
            "Art - CS - DBMS - DS - Design - History - Physics\n"
          ],
          "name": "stdout"
        }
      ]
    },
    {
      "cell_type": "code",
      "metadata": {
        "id": "9vZSQA5xoQMm",
        "outputId": "fd5a85d3-7472-4df2-bcb1-1d735fe5f3ae"
      },
      "source": [
        "new_list = subject_str.split('-')\n",
        "print(new_list)\n",
        "#Creates the list, just reverse of .join()"
      ],
      "execution_count": null,
      "outputs": [
        {
          "output_type": "stream",
          "text": [
            "['Art ', ' CS ', ' DBMS ', ' DS ', ' Design ', ' History ', ' Physics']\n"
          ],
          "name": "stdout"
        }
      ]
    },
    {
      "cell_type": "markdown",
      "metadata": {
        "id": "6iEOx5q1oQMm"
      },
      "source": [
        "\n",
        "\n",
        "<h1>Tuple: </h1>\n",
        "Doesn't have much supported functions as of list because tuple is immutable"
      ]
    },
    {
      "cell_type": "code",
      "metadata": {
        "id": "BqFaE74loQMm"
      },
      "source": [
        "tup_1 = ('History', 'Math', 'Physics', 'CS')"
      ],
      "execution_count": null,
      "outputs": []
    },
    {
      "cell_type": "code",
      "metadata": {
        "id": "otNrN3SioQMm",
        "outputId": "c032a1c1-f3b1-457f-b1b0-24d55eda13c8"
      },
      "source": [
        "tup_1[0] = 'Art'"
      ],
      "execution_count": null,
      "outputs": [
        {
          "output_type": "error",
          "ename": "TypeError",
          "evalue": "'tuple' object does not support item assignment",
          "traceback": [
            "\u001b[1;31m---------------------------------------------------------------------------\u001b[0m",
            "\u001b[1;31mTypeError\u001b[0m                                 Traceback (most recent call last)",
            "\u001b[1;32m<ipython-input-25-20f41ff68d0f>\u001b[0m in \u001b[0;36m<module>\u001b[1;34m\u001b[0m\n\u001b[1;32m----> 1\u001b[1;33m \u001b[0mtup_1\u001b[0m\u001b[1;33m[\u001b[0m\u001b[1;36m0\u001b[0m\u001b[1;33m]\u001b[0m \u001b[1;33m=\u001b[0m \u001b[1;34m'Art'\u001b[0m\u001b[1;33m\u001b[0m\u001b[1;33m\u001b[0m\u001b[0m\n\u001b[0m",
            "\u001b[1;31mTypeError\u001b[0m: 'tuple' object does not support item assignment"
          ]
        }
      ]
    },
    {
      "cell_type": "code",
      "metadata": {
        "id": "IrLBAc3AoQMn",
        "outputId": "1616e298-e28c-4cc7-d928-71768d2403d3"
      },
      "source": [
        "print(tup_1)"
      ],
      "execution_count": null,
      "outputs": [
        {
          "output_type": "stream",
          "text": [
            "('History', 'Math', 'Physics', 'CS')\n"
          ],
          "name": "stdout"
        }
      ]
    },
    {
      "cell_type": "code",
      "metadata": {
        "id": "Sb7GMA5ioQMn"
      },
      "source": [
        "#Only supports that functions that doesn't mutate the list"
      ],
      "execution_count": null,
      "outputs": []
    },
    {
      "cell_type": "markdown",
      "metadata": {
        "id": "vlODlVhooQMn"
      },
      "source": [
        "\n",
        "\n",
        "\n",
        "<h1>SETS: </h1>\n",
        "Doesn't care about order & dumps away duplicate item\n"
      ]
    },
    {
      "cell_type": "code",
      "metadata": {
        "id": "jWgQ-rARoQMn"
      },
      "source": [
        "cs_courses = {'DS','DBMS','History','Math','Physics'}"
      ],
      "execution_count": null,
      "outputs": []
    },
    {
      "cell_type": "code",
      "metadata": {
        "id": "l5yHmd80oQMn"
      },
      "source": [
        "#Changes order every time the code executes"
      ],
      "execution_count": null,
      "outputs": []
    },
    {
      "cell_type": "code",
      "metadata": {
        "id": "Cayopl6_oQMn",
        "outputId": "3ba3efd1-8f28-4960-c8d4-deac3b20ea95"
      },
      "source": [
        "print('Math' in cs_courses)\n",
        "#Checks membership in the set"
      ],
      "execution_count": null,
      "outputs": [
        {
          "output_type": "stream",
          "text": [
            "True\n"
          ],
          "name": "stdout"
        }
      ]
    },
    {
      "cell_type": "code",
      "metadata": {
        "id": "xRaPft8JoQMo"
      },
      "source": [
        "art_courses = {'History','Math','Art','Design'}"
      ],
      "execution_count": null,
      "outputs": []
    },
    {
      "cell_type": "code",
      "metadata": {
        "id": "JA93RazwoQMo",
        "outputId": "92ea34cd-64b1-4d7b-8a31-17402c9d885f"
      },
      "source": [
        "print(cs_courses.intersection(art_courses))\n",
        "#Returns common items in both sets"
      ],
      "execution_count": null,
      "outputs": [
        {
          "output_type": "stream",
          "text": [
            "{'Math', 'History'}\n"
          ],
          "name": "stdout"
        }
      ]
    },
    {
      "cell_type": "code",
      "metadata": {
        "id": "wAv225c_oQMo",
        "outputId": "1fe24949-9506-417f-c135-555f5c232626"
      },
      "source": [
        "print(cs_courses.difference(art_courses))\n",
        "\n",
        "#Returns the items not present in second set"
      ],
      "execution_count": null,
      "outputs": [
        {
          "output_type": "stream",
          "text": [
            "{'DS', 'DBMS', 'Physics'}\n"
          ],
          "name": "stdout"
        }
      ]
    },
    {
      "cell_type": "code",
      "metadata": {
        "id": "61anrh8loQMo",
        "outputId": "1dd136e9-77fa-4d3c-bb6b-6e478de3fad2"
      },
      "source": [
        "print(cs_courses.union(art_courses))\n",
        "\n",
        "#Prints all the items from both sets dropping the duplicate items in a new set"
      ],
      "execution_count": null,
      "outputs": [
        {
          "output_type": "stream",
          "text": [
            "{'Math', 'History', 'Physics', 'DS', 'Design', 'Art', 'DBMS'}\n"
          ],
          "name": "stdout"
        }
      ]
    },
    {
      "cell_type": "code",
      "metadata": {
        "id": "2rqYtuKMoQMo"
      },
      "source": [
        "#Empty List\n",
        "empty_list = []\n",
        "empty_list = list()"
      ],
      "execution_count": null,
      "outputs": []
    },
    {
      "cell_type": "code",
      "metadata": {
        "id": "yklktEYKoQMo"
      },
      "source": [
        "#Empty Tuples\n",
        "empty_tuple = ()\n",
        "empty_tuple = tuple()"
      ],
      "execution_count": null,
      "outputs": []
    },
    {
      "cell_type": "code",
      "metadata": {
        "id": "Hrrx1HaPoQMp"
      },
      "source": [
        "#Empty sets\n",
        "empty_set = {} #This will create an empty dictionary instead of empty sets\n",
        "empty_set = set()"
      ],
      "execution_count": null,
      "outputs": []
    },
    {
      "cell_type": "markdown",
      "metadata": {
        "id": "QSAcWWcdoQMp"
      },
      "source": [
        "\n",
        "\n",
        "\n",
        "# Dictionary:-\n",
        "\n",
        "#### Playing with Key:Value pairs"
      ]
    },
    {
      "cell_type": "code",
      "metadata": {
        "id": "VXGe8qrUoQMp"
      },
      "source": [
        "student = {'name':'harsh', 'age':25, 'course':['Math','Physics']}"
      ],
      "execution_count": null,
      "outputs": []
    },
    {
      "cell_type": "code",
      "metadata": {
        "id": "uZmISseroQMp",
        "outputId": "69058b95-dedf-4e60-965b-3179cc47443a"
      },
      "source": [
        "print(student) \n",
        "#prints dictionary with keys & values"
      ],
      "execution_count": null,
      "outputs": [
        {
          "output_type": "stream",
          "text": [
            "{'name': 'harsh', 'age': 25, 'course': ['Math', 'Physics']}\n"
          ],
          "name": "stdout"
        }
      ]
    },
    {
      "cell_type": "code",
      "metadata": {
        "id": "rMCJtIqVoQMp",
        "outputId": "d90a58ad-77c7-4cdd-e091-3bf8aeb431a9"
      },
      "source": [
        "print(student['name'])\n",
        "#Prints values of specified key & gives error on the absence of the key"
      ],
      "execution_count": null,
      "outputs": [
        {
          "output_type": "stream",
          "text": [
            "harsh\n"
          ],
          "name": "stdout"
        }
      ]
    },
    {
      "cell_type": "code",
      "metadata": {
        "id": "4nO0TzuuoQMp",
        "outputId": "e31e0c1e-bdf0-418f-bcc9-a8628a7e6b6e"
      },
      "source": [
        "print(student.get('phone'))\n",
        "#Prints values of specified key & doesn't gives error on the absence of the key"
      ],
      "execution_count": null,
      "outputs": [
        {
          "output_type": "stream",
          "text": [
            "None\n"
          ],
          "name": "stdout"
        }
      ]
    },
    {
      "cell_type": "code",
      "metadata": {
        "id": "J8Qb0rZxoQMq"
      },
      "source": [
        "#Let's add a phone no to our dictionary\n",
        "student['phone'] = '999-9999'"
      ],
      "execution_count": null,
      "outputs": []
    },
    {
      "cell_type": "code",
      "metadata": {
        "id": "obwUYzKkoQMq",
        "outputId": "7d9a3c3b-6664-4bb7-edf4-b366664b22e4"
      },
      "source": [
        "student['name'] = 'akshit'\n",
        "print(student)\n",
        "#update a key\n"
      ],
      "execution_count": null,
      "outputs": [
        {
          "output_type": "stream",
          "text": [
            "{'name': 'akshit', 'age': 25, 'course': ['Math', 'Physics'], 'phone': '999-9999'}\n"
          ],
          "name": "stdout"
        }
      ]
    },
    {
      "cell_type": "code",
      "metadata": {
        "id": "BtzqL0rZoQMq",
        "outputId": "1813ea0d-fbbf-4087-9545-32a5f012466e"
      },
      "source": [
        "#Updating various keys in a single line of code\n",
        "\n",
        "student.update({'name':'harsh',\n",
        "               'age': 21,\n",
        "               'phone': '111-1111'})\n",
        "print(student)"
      ],
      "execution_count": null,
      "outputs": [
        {
          "output_type": "stream",
          "text": [
            "{'name': 'harsh', 'age': 21, 'course': ['Math', 'Physics'], 'phone': '111-1111'}\n"
          ],
          "name": "stdout"
        }
      ]
    },
    {
      "cell_type": "code",
      "metadata": {
        "id": "rIEJmv4YoQMq",
        "outputId": "762d441c-517c-4c67-cb79-6c679169e100"
      },
      "source": [
        "#Prints keys from the dictionary\n",
        "\n",
        "print(student.keys())"
      ],
      "execution_count": null,
      "outputs": [
        {
          "output_type": "stream",
          "text": [
            "dict_keys(['name', 'age', 'course', 'phone'])\n"
          ],
          "name": "stdout"
        }
      ]
    },
    {
      "cell_type": "code",
      "metadata": {
        "id": "TYjqA7_xoQMq",
        "outputId": "de00bd7a-489f-498e-8c3e-5310869d03bb"
      },
      "source": [
        "#Prints valuess from the dictionary\n",
        "\n",
        "print(student.values())"
      ],
      "execution_count": null,
      "outputs": [
        {
          "output_type": "stream",
          "text": [
            "dict_values(['harsh', 21, ['Math', 'Physics'], '111-1111'])\n"
          ],
          "name": "stdout"
        }
      ]
    },
    {
      "cell_type": "code",
      "metadata": {
        "id": "l0yrlwDaoQMr",
        "outputId": "5815606f-f8e8-4050-a9a7-e52accd1cfd2"
      },
      "source": [
        "#Iterates and prints only keys from the dictionary\n",
        "\n",
        "for key in student:\n",
        "    print(key)"
      ],
      "execution_count": null,
      "outputs": [
        {
          "output_type": "stream",
          "text": [
            "name\n",
            "age\n",
            "course\n",
            "phone\n"
          ],
          "name": "stdout"
        }
      ]
    },
    {
      "cell_type": "code",
      "metadata": {
        "id": "rljFDAbvoQMr"
      },
      "source": [
        "#Iterates and prints only keys from the dictionary\n",
        "\n",
        "for key, in student:\n",
        "    print(key)"
      ],
      "execution_count": null,
      "outputs": []
    }
  ]
}